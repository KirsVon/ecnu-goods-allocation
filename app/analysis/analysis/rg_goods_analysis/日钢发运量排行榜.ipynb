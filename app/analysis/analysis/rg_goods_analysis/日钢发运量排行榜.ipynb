{
 "cells": [
  {
   "cell_type": "code",
   "execution_count": 1,
   "metadata": {
    "pycharm": {
     "is_executing": false
    }
   },
   "outputs": [],
   "source": [
    "import pandas as pd\n"
   ]
  },
  {
   "cell_type": "code",
   "execution_count": 2,
   "metadata": {
    "pycharm": {
     "is_executing": false
    }
   },
   "outputs": [],
   "source": [
    "dataset = pd.read_csv('C:\\\\Users\\\\user\\\\Desktop\\\\goods.csv',encoding='utf-8')"
   ]
  },
  {
   "cell_type": "code",
   "execution_count": 3,
   "metadata": {
    "pycharm": {
     "is_executing": false
    }
   },
   "outputs": [
    {
     "data": {
      "text/plain": "     city product_name     stock  scheduling  traffic_volume\n0     潍坊市           白卷  1462.555     504.140         248.425\n1     泰安市           黑卷  4235.355     318.390           0.000\n2     威海市          开平板   577.788       0.000           0.000\n3     临沂市           线材    56.695       7.155           0.000\n4     聊城市           黑卷   112.400       0.000           0.000\n5     烟台市           螺纹   494.638      18.900           0.000\n6     日照市           窄带    77.360       0.000           0.000\n7     淄博市           型钢    33.072       0.000           0.000\n8     青岛市           窄带  1015.808      29.246           0.000\n9     临沂市           白卷   219.350       0.000           0.000\n10    青岛市           线材   657.723       0.000           0.000\n11    临沂市           线材   213.247       8.514         145.842\n12    威海市           线材    18.804       0.000           0.000\n13    泰安市           线材    34.510       0.000           0.000\n14    青岛市           型钢  2877.744      43.848         183.306\n15    烟台市           黑卷    85.960       0.000           0.000\n16    聊城市           黑卷   112.400       0.000           0.000\n17    潍坊市           黑卷  1432.870     282.305         319.025\n18    淄博市           线材   297.840       0.000           0.000\n19    聊城市           黑卷   101.385     128.430           0.000\n20    青岛市           线材   528.516       0.000          38.267\n21    临沂市           型钢   110.455     469.601         206.567\n22    青岛市           螺纹   197.523       0.000          69.368\n23    威海市          开平板   631.878       0.000          31.094\n24    济南市           窄带    45.802       0.640          29.566\n25    济南市           窄带    16.876       0.000          16.876\n26    威海市           线材    18.804       0.000           0.000\n27    临沂市          开平板    17.520       0.000           0.000\n28    淄博市           冷板    46.332     203.702          82.655\n29    泰安市           型钢  3439.517       0.000         540.878\n...   ...          ...       ...         ...             ...\n3945  青岛市           螺纹   334.758       0.000         105.051\n3946  潍坊市           白卷   759.660     301.251         411.100\n3947  济宁市           线材     0.000      33.153           0.000\n3948  淄博市           线材    37.703       2.218          37.658\n3949  德州市           白卷     0.000      28.750           0.000\n3950  烟台市           白卷     8.050      43.480           0.000\n3951  烟台市           窄带    23.474       0.000          23.474\n3952  临沂市           黑卷   475.640    1073.080        1362.655\n3953  日照市           型钢    10.050       0.000           0.000\n3954  临沂市           窄带     8.964       9.200           8.964\n3955  滨州市           白卷    22.395      48.430          62.445\n3956  菏泽市           白卷    24.550       0.000           0.000\n3957  莱芜市           黑卷    57.160      14.130          57.160\n3958  莱芜市           黑卷    28.975       0.000           0.000\n3959  枣庄市           型钢     3.025       0.000           0.000\n3960  青岛市           黑卷   505.900    2904.510        2057.140\n3961  潍坊市           窄带   505.697     101.279           0.000\n3962  日照市           螺纹    61.963       0.000          61.963\n3963  日照市           线材     8.767    3076.958        3076.958\n3964  聊城市           白卷     7.815       0.000           0.000\n3965  临沂市           型钢   411.181     279.096         302.928\n3966  淄博市           线材  1055.445       0.000          98.856\n3967  德州市           黑卷   151.400      39.880          32.640\n3968  烟台市           型钢     5.172       0.000           0.000\n3969  菏泽市           黑卷    16.045       0.000           0.000\n3970  济南市           板坯     2.340       0.000           0.000\n3971  聊城市           线材    96.350       1.164          95.869\n3972  济南市           板坯     2.340       0.000           0.000\n3973  青岛市           白卷  1155.892     280.155         215.902\n3974  潍坊市           黑卷   785.715     233.015         407.255\n\n[3975 rows x 5 columns]",
      "text/html": "<div>\n<style scoped>\n    .dataframe tbody tr th:only-of-type {\n        vertical-align: middle;\n    }\n\n    .dataframe tbody tr th {\n        vertical-align: top;\n    }\n\n    .dataframe thead th {\n        text-align: right;\n    }\n</style>\n<table border=\"1\" class=\"dataframe\">\n  <thead>\n    <tr style=\"text-align: right;\">\n      <th></th>\n      <th>city</th>\n      <th>product_name</th>\n      <th>stock</th>\n      <th>scheduling</th>\n      <th>traffic_volume</th>\n    </tr>\n  </thead>\n  <tbody>\n    <tr>\n      <th>0</th>\n      <td>潍坊市</td>\n      <td>白卷</td>\n      <td>1462.555</td>\n      <td>504.140</td>\n      <td>248.425</td>\n    </tr>\n    <tr>\n      <th>1</th>\n      <td>泰安市</td>\n      <td>黑卷</td>\n      <td>4235.355</td>\n      <td>318.390</td>\n      <td>0.000</td>\n    </tr>\n    <tr>\n      <th>2</th>\n      <td>威海市</td>\n      <td>开平板</td>\n      <td>577.788</td>\n      <td>0.000</td>\n      <td>0.000</td>\n    </tr>\n    <tr>\n      <th>3</th>\n      <td>临沂市</td>\n      <td>线材</td>\n      <td>56.695</td>\n      <td>7.155</td>\n      <td>0.000</td>\n    </tr>\n    <tr>\n      <th>4</th>\n      <td>聊城市</td>\n      <td>黑卷</td>\n      <td>112.400</td>\n      <td>0.000</td>\n      <td>0.000</td>\n    </tr>\n    <tr>\n      <th>5</th>\n      <td>烟台市</td>\n      <td>螺纹</td>\n      <td>494.638</td>\n      <td>18.900</td>\n      <td>0.000</td>\n    </tr>\n    <tr>\n      <th>6</th>\n      <td>日照市</td>\n      <td>窄带</td>\n      <td>77.360</td>\n      <td>0.000</td>\n      <td>0.000</td>\n    </tr>\n    <tr>\n      <th>7</th>\n      <td>淄博市</td>\n      <td>型钢</td>\n      <td>33.072</td>\n      <td>0.000</td>\n      <td>0.000</td>\n    </tr>\n    <tr>\n      <th>8</th>\n      <td>青岛市</td>\n      <td>窄带</td>\n      <td>1015.808</td>\n      <td>29.246</td>\n      <td>0.000</td>\n    </tr>\n    <tr>\n      <th>9</th>\n      <td>临沂市</td>\n      <td>白卷</td>\n      <td>219.350</td>\n      <td>0.000</td>\n      <td>0.000</td>\n    </tr>\n    <tr>\n      <th>10</th>\n      <td>青岛市</td>\n      <td>线材</td>\n      <td>657.723</td>\n      <td>0.000</td>\n      <td>0.000</td>\n    </tr>\n    <tr>\n      <th>11</th>\n      <td>临沂市</td>\n      <td>线材</td>\n      <td>213.247</td>\n      <td>8.514</td>\n      <td>145.842</td>\n    </tr>\n    <tr>\n      <th>12</th>\n      <td>威海市</td>\n      <td>线材</td>\n      <td>18.804</td>\n      <td>0.000</td>\n      <td>0.000</td>\n    </tr>\n    <tr>\n      <th>13</th>\n      <td>泰安市</td>\n      <td>线材</td>\n      <td>34.510</td>\n      <td>0.000</td>\n      <td>0.000</td>\n    </tr>\n    <tr>\n      <th>14</th>\n      <td>青岛市</td>\n      <td>型钢</td>\n      <td>2877.744</td>\n      <td>43.848</td>\n      <td>183.306</td>\n    </tr>\n    <tr>\n      <th>15</th>\n      <td>烟台市</td>\n      <td>黑卷</td>\n      <td>85.960</td>\n      <td>0.000</td>\n      <td>0.000</td>\n    </tr>\n    <tr>\n      <th>16</th>\n      <td>聊城市</td>\n      <td>黑卷</td>\n      <td>112.400</td>\n      <td>0.000</td>\n      <td>0.000</td>\n    </tr>\n    <tr>\n      <th>17</th>\n      <td>潍坊市</td>\n      <td>黑卷</td>\n      <td>1432.870</td>\n      <td>282.305</td>\n      <td>319.025</td>\n    </tr>\n    <tr>\n      <th>18</th>\n      <td>淄博市</td>\n      <td>线材</td>\n      <td>297.840</td>\n      <td>0.000</td>\n      <td>0.000</td>\n    </tr>\n    <tr>\n      <th>19</th>\n      <td>聊城市</td>\n      <td>黑卷</td>\n      <td>101.385</td>\n      <td>128.430</td>\n      <td>0.000</td>\n    </tr>\n    <tr>\n      <th>20</th>\n      <td>青岛市</td>\n      <td>线材</td>\n      <td>528.516</td>\n      <td>0.000</td>\n      <td>38.267</td>\n    </tr>\n    <tr>\n      <th>21</th>\n      <td>临沂市</td>\n      <td>型钢</td>\n      <td>110.455</td>\n      <td>469.601</td>\n      <td>206.567</td>\n    </tr>\n    <tr>\n      <th>22</th>\n      <td>青岛市</td>\n      <td>螺纹</td>\n      <td>197.523</td>\n      <td>0.000</td>\n      <td>69.368</td>\n    </tr>\n    <tr>\n      <th>23</th>\n      <td>威海市</td>\n      <td>开平板</td>\n      <td>631.878</td>\n      <td>0.000</td>\n      <td>31.094</td>\n    </tr>\n    <tr>\n      <th>24</th>\n      <td>济南市</td>\n      <td>窄带</td>\n      <td>45.802</td>\n      <td>0.640</td>\n      <td>29.566</td>\n    </tr>\n    <tr>\n      <th>25</th>\n      <td>济南市</td>\n      <td>窄带</td>\n      <td>16.876</td>\n      <td>0.000</td>\n      <td>16.876</td>\n    </tr>\n    <tr>\n      <th>26</th>\n      <td>威海市</td>\n      <td>线材</td>\n      <td>18.804</td>\n      <td>0.000</td>\n      <td>0.000</td>\n    </tr>\n    <tr>\n      <th>27</th>\n      <td>临沂市</td>\n      <td>开平板</td>\n      <td>17.520</td>\n      <td>0.000</td>\n      <td>0.000</td>\n    </tr>\n    <tr>\n      <th>28</th>\n      <td>淄博市</td>\n      <td>冷板</td>\n      <td>46.332</td>\n      <td>203.702</td>\n      <td>82.655</td>\n    </tr>\n    <tr>\n      <th>29</th>\n      <td>泰安市</td>\n      <td>型钢</td>\n      <td>3439.517</td>\n      <td>0.000</td>\n      <td>540.878</td>\n    </tr>\n    <tr>\n      <th>...</th>\n      <td>...</td>\n      <td>...</td>\n      <td>...</td>\n      <td>...</td>\n      <td>...</td>\n    </tr>\n    <tr>\n      <th>3945</th>\n      <td>青岛市</td>\n      <td>螺纹</td>\n      <td>334.758</td>\n      <td>0.000</td>\n      <td>105.051</td>\n    </tr>\n    <tr>\n      <th>3946</th>\n      <td>潍坊市</td>\n      <td>白卷</td>\n      <td>759.660</td>\n      <td>301.251</td>\n      <td>411.100</td>\n    </tr>\n    <tr>\n      <th>3947</th>\n      <td>济宁市</td>\n      <td>线材</td>\n      <td>0.000</td>\n      <td>33.153</td>\n      <td>0.000</td>\n    </tr>\n    <tr>\n      <th>3948</th>\n      <td>淄博市</td>\n      <td>线材</td>\n      <td>37.703</td>\n      <td>2.218</td>\n      <td>37.658</td>\n    </tr>\n    <tr>\n      <th>3949</th>\n      <td>德州市</td>\n      <td>白卷</td>\n      <td>0.000</td>\n      <td>28.750</td>\n      <td>0.000</td>\n    </tr>\n    <tr>\n      <th>3950</th>\n      <td>烟台市</td>\n      <td>白卷</td>\n      <td>8.050</td>\n      <td>43.480</td>\n      <td>0.000</td>\n    </tr>\n    <tr>\n      <th>3951</th>\n      <td>烟台市</td>\n      <td>窄带</td>\n      <td>23.474</td>\n      <td>0.000</td>\n      <td>23.474</td>\n    </tr>\n    <tr>\n      <th>3952</th>\n      <td>临沂市</td>\n      <td>黑卷</td>\n      <td>475.640</td>\n      <td>1073.080</td>\n      <td>1362.655</td>\n    </tr>\n    <tr>\n      <th>3953</th>\n      <td>日照市</td>\n      <td>型钢</td>\n      <td>10.050</td>\n      <td>0.000</td>\n      <td>0.000</td>\n    </tr>\n    <tr>\n      <th>3954</th>\n      <td>临沂市</td>\n      <td>窄带</td>\n      <td>8.964</td>\n      <td>9.200</td>\n      <td>8.964</td>\n    </tr>\n    <tr>\n      <th>3955</th>\n      <td>滨州市</td>\n      <td>白卷</td>\n      <td>22.395</td>\n      <td>48.430</td>\n      <td>62.445</td>\n    </tr>\n    <tr>\n      <th>3956</th>\n      <td>菏泽市</td>\n      <td>白卷</td>\n      <td>24.550</td>\n      <td>0.000</td>\n      <td>0.000</td>\n    </tr>\n    <tr>\n      <th>3957</th>\n      <td>莱芜市</td>\n      <td>黑卷</td>\n      <td>57.160</td>\n      <td>14.130</td>\n      <td>57.160</td>\n    </tr>\n    <tr>\n      <th>3958</th>\n      <td>莱芜市</td>\n      <td>黑卷</td>\n      <td>28.975</td>\n      <td>0.000</td>\n      <td>0.000</td>\n    </tr>\n    <tr>\n      <th>3959</th>\n      <td>枣庄市</td>\n      <td>型钢</td>\n      <td>3.025</td>\n      <td>0.000</td>\n      <td>0.000</td>\n    </tr>\n    <tr>\n      <th>3960</th>\n      <td>青岛市</td>\n      <td>黑卷</td>\n      <td>505.900</td>\n      <td>2904.510</td>\n      <td>2057.140</td>\n    </tr>\n    <tr>\n      <th>3961</th>\n      <td>潍坊市</td>\n      <td>窄带</td>\n      <td>505.697</td>\n      <td>101.279</td>\n      <td>0.000</td>\n    </tr>\n    <tr>\n      <th>3962</th>\n      <td>日照市</td>\n      <td>螺纹</td>\n      <td>61.963</td>\n      <td>0.000</td>\n      <td>61.963</td>\n    </tr>\n    <tr>\n      <th>3963</th>\n      <td>日照市</td>\n      <td>线材</td>\n      <td>8.767</td>\n      <td>3076.958</td>\n      <td>3076.958</td>\n    </tr>\n    <tr>\n      <th>3964</th>\n      <td>聊城市</td>\n      <td>白卷</td>\n      <td>7.815</td>\n      <td>0.000</td>\n      <td>0.000</td>\n    </tr>\n    <tr>\n      <th>3965</th>\n      <td>临沂市</td>\n      <td>型钢</td>\n      <td>411.181</td>\n      <td>279.096</td>\n      <td>302.928</td>\n    </tr>\n    <tr>\n      <th>3966</th>\n      <td>淄博市</td>\n      <td>线材</td>\n      <td>1055.445</td>\n      <td>0.000</td>\n      <td>98.856</td>\n    </tr>\n    <tr>\n      <th>3967</th>\n      <td>德州市</td>\n      <td>黑卷</td>\n      <td>151.400</td>\n      <td>39.880</td>\n      <td>32.640</td>\n    </tr>\n    <tr>\n      <th>3968</th>\n      <td>烟台市</td>\n      <td>型钢</td>\n      <td>5.172</td>\n      <td>0.000</td>\n      <td>0.000</td>\n    </tr>\n    <tr>\n      <th>3969</th>\n      <td>菏泽市</td>\n      <td>黑卷</td>\n      <td>16.045</td>\n      <td>0.000</td>\n      <td>0.000</td>\n    </tr>\n    <tr>\n      <th>3970</th>\n      <td>济南市</td>\n      <td>板坯</td>\n      <td>2.340</td>\n      <td>0.000</td>\n      <td>0.000</td>\n    </tr>\n    <tr>\n      <th>3971</th>\n      <td>聊城市</td>\n      <td>线材</td>\n      <td>96.350</td>\n      <td>1.164</td>\n      <td>95.869</td>\n    </tr>\n    <tr>\n      <th>3972</th>\n      <td>济南市</td>\n      <td>板坯</td>\n      <td>2.340</td>\n      <td>0.000</td>\n      <td>0.000</td>\n    </tr>\n    <tr>\n      <th>3973</th>\n      <td>青岛市</td>\n      <td>白卷</td>\n      <td>1155.892</td>\n      <td>280.155</td>\n      <td>215.902</td>\n    </tr>\n    <tr>\n      <th>3974</th>\n      <td>潍坊市</td>\n      <td>黑卷</td>\n      <td>785.715</td>\n      <td>233.015</td>\n      <td>407.255</td>\n    </tr>\n  </tbody>\n</table>\n<p>3975 rows × 5 columns</p>\n</div>"
     },
     "metadata": {},
     "output_type": "execute_result",
     "execution_count": 3
    }
   ],
   "source": [
    "dataset"
   ]
  },
  {
   "cell_type": "code",
   "execution_count": 4,
   "metadata": {
    "pycharm": {
     "is_executing": false
    }
   },
   "outputs": [
    {
     "data": {
      "text/plain": "(3975, 5)"
     },
     "metadata": {},
     "output_type": "execute_result",
     "execution_count": 4
    }
   ],
   "source": [
    "dataset.shape"
   ]
  },
  {
   "cell_type": "code",
   "execution_count": 5,
   "metadata": {
    "pycharm": {
     "is_executing": false
    }
   },
   "outputs": [
    {
     "data": {
      "text/plain": "             stock   scheduling  traffic_volume\ncount  3975.000000  3975.000000     3975.000000\nmean    597.171640   179.328987      186.629195\nstd    1231.894772   621.582729      567.906893\nmin       0.000000     0.000000        0.000000\n25%      28.867000     0.000000        0.000000\n50%     115.716000     0.000000        0.000000\n75%     577.788000    78.509000      105.545000\nmax    9067.905000  9005.725000     7977.575000",
      "text/html": "<div>\n<style scoped>\n    .dataframe tbody tr th:only-of-type {\n        vertical-align: middle;\n    }\n\n    .dataframe tbody tr th {\n        vertical-align: top;\n    }\n\n    .dataframe thead th {\n        text-align: right;\n    }\n</style>\n<table border=\"1\" class=\"dataframe\">\n  <thead>\n    <tr style=\"text-align: right;\">\n      <th></th>\n      <th>stock</th>\n      <th>scheduling</th>\n      <th>traffic_volume</th>\n    </tr>\n  </thead>\n  <tbody>\n    <tr>\n      <th>count</th>\n      <td>3975.000000</td>\n      <td>3975.000000</td>\n      <td>3975.000000</td>\n    </tr>\n    <tr>\n      <th>mean</th>\n      <td>597.171640</td>\n      <td>179.328987</td>\n      <td>186.629195</td>\n    </tr>\n    <tr>\n      <th>std</th>\n      <td>1231.894772</td>\n      <td>621.582729</td>\n      <td>567.906893</td>\n    </tr>\n    <tr>\n      <th>min</th>\n      <td>0.000000</td>\n      <td>0.000000</td>\n      <td>0.000000</td>\n    </tr>\n    <tr>\n      <th>25%</th>\n      <td>28.867000</td>\n      <td>0.000000</td>\n      <td>0.000000</td>\n    </tr>\n    <tr>\n      <th>50%</th>\n      <td>115.716000</td>\n      <td>0.000000</td>\n      <td>0.000000</td>\n    </tr>\n    <tr>\n      <th>75%</th>\n      <td>577.788000</td>\n      <td>78.509000</td>\n      <td>105.545000</td>\n    </tr>\n    <tr>\n      <th>max</th>\n      <td>9067.905000</td>\n      <td>9005.725000</td>\n      <td>7977.575000</td>\n    </tr>\n  </tbody>\n</table>\n</div>"
     },
     "metadata": {},
     "output_type": "execute_result",
     "execution_count": 5
    }
   ],
   "source": [
    "dataset.describe()"
   ]
  },
  {
   "cell_type": "code",
   "execution_count": 6,
   "metadata": {
    "pycharm": {
     "is_executing": false
    }
   },
   "outputs": [
    {
     "traceback": [
      "\u001b[1;31m---------------------------------------------------------------------------\u001b[0m",
      "\u001b[1;31mKeyError\u001b[0m                                  Traceback (most recent call last)",
      "\u001b[1;32m<ipython-input-6-df9b0c8fdd34>\u001b[0m in \u001b[0;36m<module>\u001b[1;34m\u001b[0m\n\u001b[0;32m      1\u001b[0m \u001b[1;33m\u001b[0m\u001b[0m\n\u001b[1;32m----> 2\u001b[1;33m \u001b[0mdataset\u001b[0m \u001b[1;33m=\u001b[0m \u001b[0mdataset\u001b[0m\u001b[1;33m.\u001b[0m\u001b[0mdrop\u001b[0m\u001b[1;33m(\u001b[0m\u001b[1;33m[\u001b[0m\u001b[1;34m'rowid'\u001b[0m\u001b[1;33m,\u001b[0m\u001b[1;34m'insert_time'\u001b[0m\u001b[1;33m,\u001b[0m\u001b[1;34m'update_time'\u001b[0m\u001b[1;33m]\u001b[0m\u001b[1;33m,\u001b[0m\u001b[0maxis\u001b[0m \u001b[1;33m=\u001b[0m \u001b[1;36m1\u001b[0m\u001b[1;33m)\u001b[0m\u001b[1;33m\u001b[0m\u001b[1;33m\u001b[0m\u001b[0m\n\u001b[0m\u001b[0;32m      3\u001b[0m \u001b[1;33m\u001b[0m\u001b[0m\n",
      "\u001b[1;32mC:\\ProgramData\\Anaconda3\\lib\\site-packages\\pandas\\core\\frame.py\u001b[0m in \u001b[0;36mdrop\u001b[1;34m(self, labels, axis, index, columns, level, inplace, errors)\u001b[0m\n\u001b[0;32m   3938\u001b[0m                                            \u001b[0mindex\u001b[0m\u001b[1;33m=\u001b[0m\u001b[0mindex\u001b[0m\u001b[1;33m,\u001b[0m \u001b[0mcolumns\u001b[0m\u001b[1;33m=\u001b[0m\u001b[0mcolumns\u001b[0m\u001b[1;33m,\u001b[0m\u001b[1;33m\u001b[0m\u001b[1;33m\u001b[0m\u001b[0m\n\u001b[0;32m   3939\u001b[0m                                            \u001b[0mlevel\u001b[0m\u001b[1;33m=\u001b[0m\u001b[0mlevel\u001b[0m\u001b[1;33m,\u001b[0m \u001b[0minplace\u001b[0m\u001b[1;33m=\u001b[0m\u001b[0minplace\u001b[0m\u001b[1;33m,\u001b[0m\u001b[1;33m\u001b[0m\u001b[1;33m\u001b[0m\u001b[0m\n\u001b[1;32m-> 3940\u001b[1;33m                                            errors=errors)\n\u001b[0m\u001b[0;32m   3941\u001b[0m \u001b[1;33m\u001b[0m\u001b[0m\n\u001b[0;32m   3942\u001b[0m     @rewrite_axis_style_signature('mapper', [('copy', True),\n",
      "\u001b[1;32mC:\\ProgramData\\Anaconda3\\lib\\site-packages\\pandas\\core\\generic.py\u001b[0m in \u001b[0;36mdrop\u001b[1;34m(self, labels, axis, index, columns, level, inplace, errors)\u001b[0m\n\u001b[0;32m   3778\u001b[0m         \u001b[1;32mfor\u001b[0m \u001b[0maxis\u001b[0m\u001b[1;33m,\u001b[0m \u001b[0mlabels\u001b[0m \u001b[1;32min\u001b[0m \u001b[0maxes\u001b[0m\u001b[1;33m.\u001b[0m\u001b[0mitems\u001b[0m\u001b[1;33m(\u001b[0m\u001b[1;33m)\u001b[0m\u001b[1;33m:\u001b[0m\u001b[1;33m\u001b[0m\u001b[1;33m\u001b[0m\u001b[0m\n\u001b[0;32m   3779\u001b[0m             \u001b[1;32mif\u001b[0m \u001b[0mlabels\u001b[0m \u001b[1;32mis\u001b[0m \u001b[1;32mnot\u001b[0m \u001b[1;32mNone\u001b[0m\u001b[1;33m:\u001b[0m\u001b[1;33m\u001b[0m\u001b[1;33m\u001b[0m\u001b[0m\n\u001b[1;32m-> 3780\u001b[1;33m                 \u001b[0mobj\u001b[0m \u001b[1;33m=\u001b[0m \u001b[0mobj\u001b[0m\u001b[1;33m.\u001b[0m\u001b[0m_drop_axis\u001b[0m\u001b[1;33m(\u001b[0m\u001b[0mlabels\u001b[0m\u001b[1;33m,\u001b[0m \u001b[0maxis\u001b[0m\u001b[1;33m,\u001b[0m \u001b[0mlevel\u001b[0m\u001b[1;33m=\u001b[0m\u001b[0mlevel\u001b[0m\u001b[1;33m,\u001b[0m \u001b[0merrors\u001b[0m\u001b[1;33m=\u001b[0m\u001b[0merrors\u001b[0m\u001b[1;33m)\u001b[0m\u001b[1;33m\u001b[0m\u001b[1;33m\u001b[0m\u001b[0m\n\u001b[0m\u001b[0;32m   3781\u001b[0m \u001b[1;33m\u001b[0m\u001b[0m\n\u001b[0;32m   3782\u001b[0m         \u001b[1;32mif\u001b[0m \u001b[0minplace\u001b[0m\u001b[1;33m:\u001b[0m\u001b[1;33m\u001b[0m\u001b[1;33m\u001b[0m\u001b[0m\n",
      "\u001b[1;32mC:\\ProgramData\\Anaconda3\\lib\\site-packages\\pandas\\core\\generic.py\u001b[0m in \u001b[0;36m_drop_axis\u001b[1;34m(self, labels, axis, level, errors)\u001b[0m\n\u001b[0;32m   3810\u001b[0m                 \u001b[0mnew_axis\u001b[0m \u001b[1;33m=\u001b[0m \u001b[0maxis\u001b[0m\u001b[1;33m.\u001b[0m\u001b[0mdrop\u001b[0m\u001b[1;33m(\u001b[0m\u001b[0mlabels\u001b[0m\u001b[1;33m,\u001b[0m \u001b[0mlevel\u001b[0m\u001b[1;33m=\u001b[0m\u001b[0mlevel\u001b[0m\u001b[1;33m,\u001b[0m \u001b[0merrors\u001b[0m\u001b[1;33m=\u001b[0m\u001b[0merrors\u001b[0m\u001b[1;33m)\u001b[0m\u001b[1;33m\u001b[0m\u001b[1;33m\u001b[0m\u001b[0m\n\u001b[0;32m   3811\u001b[0m             \u001b[1;32melse\u001b[0m\u001b[1;33m:\u001b[0m\u001b[1;33m\u001b[0m\u001b[1;33m\u001b[0m\u001b[0m\n\u001b[1;32m-> 3812\u001b[1;33m                 \u001b[0mnew_axis\u001b[0m \u001b[1;33m=\u001b[0m \u001b[0maxis\u001b[0m\u001b[1;33m.\u001b[0m\u001b[0mdrop\u001b[0m\u001b[1;33m(\u001b[0m\u001b[0mlabels\u001b[0m\u001b[1;33m,\u001b[0m \u001b[0merrors\u001b[0m\u001b[1;33m=\u001b[0m\u001b[0merrors\u001b[0m\u001b[1;33m)\u001b[0m\u001b[1;33m\u001b[0m\u001b[1;33m\u001b[0m\u001b[0m\n\u001b[0m\u001b[0;32m   3813\u001b[0m             \u001b[0mresult\u001b[0m \u001b[1;33m=\u001b[0m \u001b[0mself\u001b[0m\u001b[1;33m.\u001b[0m\u001b[0mreindex\u001b[0m\u001b[1;33m(\u001b[0m\u001b[1;33m**\u001b[0m\u001b[1;33m{\u001b[0m\u001b[0maxis_name\u001b[0m\u001b[1;33m:\u001b[0m \u001b[0mnew_axis\u001b[0m\u001b[1;33m}\u001b[0m\u001b[1;33m)\u001b[0m\u001b[1;33m\u001b[0m\u001b[1;33m\u001b[0m\u001b[0m\n\u001b[0;32m   3814\u001b[0m \u001b[1;33m\u001b[0m\u001b[0m\n",
      "\u001b[1;32mC:\\ProgramData\\Anaconda3\\lib\\site-packages\\pandas\\core\\indexes\\base.py\u001b[0m in \u001b[0;36mdrop\u001b[1;34m(self, labels, errors)\u001b[0m\n\u001b[0;32m   4963\u001b[0m             \u001b[1;32mif\u001b[0m \u001b[0merrors\u001b[0m \u001b[1;33m!=\u001b[0m \u001b[1;34m'ignore'\u001b[0m\u001b[1;33m:\u001b[0m\u001b[1;33m\u001b[0m\u001b[1;33m\u001b[0m\u001b[0m\n\u001b[0;32m   4964\u001b[0m                 raise KeyError(\n\u001b[1;32m-> 4965\u001b[1;33m                     '{} not found in axis'.format(labels[mask]))\n\u001b[0m\u001b[0;32m   4966\u001b[0m             \u001b[0mindexer\u001b[0m \u001b[1;33m=\u001b[0m \u001b[0mindexer\u001b[0m\u001b[1;33m[\u001b[0m\u001b[1;33m~\u001b[0m\u001b[0mmask\u001b[0m\u001b[1;33m]\u001b[0m\u001b[1;33m\u001b[0m\u001b[1;33m\u001b[0m\u001b[0m\n\u001b[0;32m   4967\u001b[0m         \u001b[1;32mreturn\u001b[0m \u001b[0mself\u001b[0m\u001b[1;33m.\u001b[0m\u001b[0mdelete\u001b[0m\u001b[1;33m(\u001b[0m\u001b[0mindexer\u001b[0m\u001b[1;33m)\u001b[0m\u001b[1;33m\u001b[0m\u001b[1;33m\u001b[0m\u001b[0m\n",
      "\u001b[1;31mKeyError\u001b[0m: \"['rowid' 'insert_time' 'update_time'] not found in axis\""
     ],
     "ename": "KeyError",
     "evalue": "\"['rowid' 'insert_time' 'update_time'] not found in axis\"",
     "output_type": "error"
    }
   ],
   "source": [
    "dataset = dataset.drop(['rowid','insert_time','update_time'],axis = 1)"
   ]
  },
  {
   "cell_type": "code",
   "execution_count": null,
   "metadata": {
    "pycharm": {
     "is_executing": false
    }
   },
   "outputs": [],
   "source": [
    "data = dataset.groupby(['city_name']).mean()"
   ]
  },
  {
   "cell_type": "code",
   "execution_count": null,
   "metadata": {
    "pycharm": {
     "is_executing": false
    }
   },
   "outputs": [],
   "source": [
    "data = data.sort_values(['load_weight'],ascending = False)"
   ]
  },
  {
   "cell_type": "code",
   "execution_count": null,
   "metadata": {
    "scrolled": true,
    "pycharm": {
     "is_executing": false
    }
   },
   "outputs": [],
   "source": [
    "data.plot(kind='bar')"
   ]
  },
  {
   "cell_type": "code",
   "execution_count": null,
   "metadata": {
    "pycharm": {
     "is_executing": false
    }
   },
   "outputs": [],
   "source": []
  }
 ],
 "metadata": {
  "kernelspec": {
   "display_name": "Python 3",
   "language": "python",
   "name": "python3"
  },
  "language_info": {
   "codemirror_mode": {
    "name": "ipython",
    "version": 3
   },
   "file_extension": ".py",
   "mimetype": "text/x-python",
   "name": "python",
   "nbconvert_exporter": "python",
   "pygments_lexer": "ipython3",
   "version": "3.7.3"
  },
  "pycharm": {
   "stem_cell": {
    "cell_type": "raw",
    "source": [],
    "metadata": {
     "collapsed": false
    }
   }
  }
 },
 "nbformat": 4,
 "nbformat_minor": 2
}